{
 "cells": [
  {
   "cell_type": "code",
   "execution_count": 1,
   "metadata": {
    "collapsed": false
   },
   "outputs": [],
   "source": [
    "import warnings\n",
    "warnings.filterwarnings('ignore')\n",
    "\n",
    "import numpy as np\n",
    "import pandas as pd\n",
    "\n",
    "import matplotlib.pyplot as plt\n",
    "import sys\n",
    "sys.path.append('src/')\n",
    "\n",
    "eps=1e-8\n",
    "\n",
    "from main import *\n",
    "from utils import *"
   ]
  },
  {
   "cell_type": "markdown",
   "metadata": {},
   "source": [
    "Transformation fo the mat files into csv files"
   ]
  },
  {
   "cell_type": "code",
   "execution_count": 2,
   "metadata": {
    "collapsed": false
   },
   "outputs": [],
   "source": [
    "file=hdf5storage.loadmat('../school_splits/school_b.mat')\n",
    "mat_to_csv(file)"
   ]
  },
  {
   "cell_type": "code",
   "execution_count": 3,
   "metadata": {
    "collapsed": false
   },
   "outputs": [],
   "source": [
    "data=pd.read_csv('../data/school_results.csv')\n",
    "\n",
    "y_df=data[['grade']]\n",
    "X_df=data.drop(['grade'],axis=1)"
   ]
  },
  {
   "cell_type": "code",
   "execution_count": 4,
   "metadata": {
    "collapsed": false
   },
   "outputs": [],
   "source": [
    "from sklearn.model_selection import train_test_split\n",
    "X_train,X_test,y_train,y_test=train_test_split(X_df,y_df,test_size=0.25)"
   ]
  },
  {
   "cell_type": "markdown",
   "metadata": {},
   "source": [
    "### Algo 1"
   ]
  },
  {
   "cell_type": "code",
   "execution_count": 5,
   "metadata": {
    "collapsed": false
   },
   "outputs": [
    {
     "data": {
      "image/png": "[encoded data removed]",
      "text/plain": [
       "<matplotlib.figure.Figure at 0x7fbce83339b0>"
      ]
     },
     "metadata": {},
     "output_type": "display_data"
    }
   ],
   "source": [
    "W,D,l,mineps,list_sqe=algo1_eps(X_train,y_train,gamma=1,tol=0.1,max_iter=20)\n",
    "plt.plot(l)\n",
    "plt.show()"
   ]
  },
  {
   "cell_type": "code",
   "execution_count": null,
   "metadata": {
    "collapsed": false,
    "scrolled": true
   },
   "outputs": [],
   "source": [
    "X_train,X_test,y_train,y_test=train_test_split(X_df,y_df,test_size=0.25)\n",
    "\n",
    "W,D,l,l_sqe,l_sparse=algo1(X_train,y_train,gamma=1,epsilon=0.01,tol=1e-5,max_iter=30)"
   ]
  },
  {
   "cell_type": "markdown",
   "metadata": {},
   "source": [
    "Cross-validation module (to use for results)"
   ]
  },
  {
   "cell_type": "code",
   "execution_count": 80,
   "metadata": {
    "collapsed": false
   },
   "outputs": [
    {
     "name": "stdout",
     "output_type": "stream",
     "text": [
      "139\n",
      "139\n",
      "139\n",
      "Total explained variance:  0.362211997247\n"
     ]
    }
   ],
   "source": [
    "from sklearn.model_selection import KFold\n",
    "\n",
    "skf=KFold(n_splits=3, shuffle=True)\n",
    "\n",
    "err_tot=0\n",
    "for train_is, test_is in skf.split(X_df):\n",
    "    X_train=X_df.ix[train_is]\n",
    "    X_test=X_df.ix[test_is]\n",
    "    y_train=y_df.ix[train_is]\n",
    "    y_test=y_df.ix[test_is]\n",
    "    X_train,X_test,y_train,y_test=train_test_split(X_df,y_df,test_size=0.25)\n",
    "\n",
    "    W,D,l,l_sqe,l_sparse=algo1(X_train,y_train,gamma=1,epsilon=0.01,tol=1e-6,max_iter=30)\n",
    "    _,U=np.linalg.eig(D)\n",
    "    A=np.dot(U.T,W)\n",
    "    y_test_pred=compute_y_pred(A,U,X_test)\n",
    "    y_ts_arr=y_test.values.reshape(-1)\n",
    "    err_tot+=explained_var(y_test_pred,y_ts_arr)\n",
    "\n",
    "err_tot=err_tot/3\n",
    "print('Total explained variance: ', err_tot)"
   ]
  },
  {
   "cell_type": "code",
   "execution_count": 5,
   "metadata": {
    "collapsed": false,
    "scrolled": true
   },
   "outputs": [
    {
     "data": {
      "image/png": "[encoded data removed]",
      "text/plain": [
       "<matplotlib.figure.Figure at 0x7f919925dfd0>"
      ]
     },
     "metadata": {},
     "output_type": "display_data"
    }
   ],
   "source": [
    "gammas=[]\n",
    "n_feat=[]\n",
    "for j in range(-3,4):\n",
    "    gamma=10**(j)\n",
    "    W,D,l,l_sqe,l_sparse=algo1(X_train,y_train,gamma,epsilon=0.01,tol=1e-5,max_iter=30)\n",
    "    _,U=np.linalg.eig(D)\n",
    "    A=np.dot(U.T,W)\n",
    "    #print(gamma,[round(np.linalg.norm(a),1) for a in A])\n",
    "    gammas.append(gamma)\n",
    "    n_feat.append(len(np.where(np.array([round(np.linalg.norm(a),1) for a in A])>0)[0]))\n",
    "\n",
    "fig, _ = plt.subplots(figsize=[14,4])\n",
    "plt.scatter(gammas,n_feat,c='b')\n",
    "plt.plot(gammas,n_feat,c='b')\n",
    "plt.xscale('log')\n",
    "plt.show()"
   ]
  },
  {
   "cell_type": "code",
   "execution_count": 6,
   "metadata": {
    "collapsed": true
   },
   "outputs": [
    {
     "name": "stdout",
     "output_type": "stream",
     "text": [
      "651\n",
      "Iteration:  1\n",
      "Iteration:  2\n",
      "Iteration:  3\n",
      "Iteration:  4\n",
      "Iteration:  5\n",
      "(138,)\n",
      "(513,)\n",
      "651\n",
      "Iteration:  1\n",
      "Iteration:  2\n",
      "Iteration:  3\n",
      "Iteration:  4\n",
      "Iteration:  5\n",
      "(138,)\n",
      "(513,)\n",
      "651\n",
      "Iteration:  1\n",
      "Iteration:  2\n",
      "Iteration:  3\n",
      "Iteration:  4\n",
      "Iteration:  5\n",
      "(138,)\n",
      "(513,)\n",
      "651\n",
      "Iteration:  1\n",
      "Iteration:  2\n",
      "Iteration:  3\n",
      "Iteration:  4\n",
      "Iteration:  5\n",
      "(138,)\n",
      "(513,)\n",
      "651\n",
      "Iteration:  1\n",
      "Iteration:  2\n",
      "Iteration:  3\n",
      "Iteration:  4\n",
      "Iteration:  5\n",
      "(138,)\n",
      "(513,)\n",
      "651\n",
      "Iteration:  1\n",
      "Iteration:  2\n",
      "Iteration:  3\n",
      "(138,)\n",
      "(513,)\n",
      "651\n",
      "Iteration:  1\n",
      "Iteration:  2\n",
      "(138,)\n",
      "(513,)\n"
     ]
    },
    {
     "data": {
      "image/png": "[encoded data removed]",
      "text/plain": [
       "<matplotlib.figure.Figure at 0x7f7a5c250208>"
      ]
     },
     "metadata": {},
     "output_type": "display_data"
    }
   ],
   "source": [
    "X_train,X_test,y_train,y_test=train_test_split(X_df,y_df,test_size=0.9)\n",
    "gammas=[]\n",
    "n_feat=[]\n",
    "\n",
    "for j in range(-3,4):\n",
    "    gamma=10**(j)\n",
    "    B,K_til,mu_idx=algo2(X_train,y_train,gamma,\n",
    "                     epsilon=0.1,tol=1e-5,max_iter=5)\n",
    "    A=compute_A_from_B(B,K_til,mu_idx)\n",
    "    #print(gamma,[round(np.linalg.norm(a),1) for a in A])\n",
    "    gammas.append(gamma)\n",
    "    n_feat.append(len(np.where(np.array([round(np.linalg.norm(a),3) for a in A.T])>0)[0]))\n",
    "    #B_list.append(B)\n",
    "plt.figure(figsize=(20,10))\n",
    "plt.scatter(gammas,n_feat,c='b')\n",
    "plt.plot(gammas,n_feat,c='b')\n",
    "plt.xscale('log')\n",
    "plt.title('Number of selected features depending on gamma')\n",
    "plt.show()"
   ]
  },
  {
   "cell_type": "markdown",
   "metadata": {},
   "source": [
    "### Algo 2"
   ]
  },
  {
   "cell_type": "code",
   "execution_count": 5,
   "metadata": {
    "collapsed": true
   },
   "outputs": [
    {
     "name": "stdout",
     "output_type": "stream",
     "text": [
      "641\n",
      "Iteration:  1\n",
      "Iteration:  2\n",
      "Iteration:  3\n",
      "Iteration:  4\n",
      "Iteration:  5\n",
      "Iteration:  6\n",
      "Iteration:  7\n",
      "Iteration:  8\n",
      "Iteration:  9\n",
      "Iteration:  10\n"
     ]
    }
   ],
   "source": [
    "X_train,X_test,y_train,y_test=train_test_split(X_df,y_df,test_size=0.75)\n",
    "\n",
    "B,list_cost,mineps=algo2_eps(X_train,y_train,gamma=0.1,epsilon_init=1e-7,tol=1e-3,tol_eps=1e-7,max_iter=10,kernel='gaussian',sigma=None)"
   ]
  },
  {
   "cell_type": "code",
   "execution_count": 9,
   "metadata": {
    "collapsed": true
   },
   "outputs": [
    {
     "name": "stdout",
     "output_type": "stream",
     "text": [
      "641\n",
      "Iteration:  1\n",
      "Iteration:  2\n",
      "Iteration:  3\n",
      "Iteration:  4\n",
      "Iteration:  5\n",
      "Iteration:  6\n",
      "Iteration:  7\n",
      "Iteration:  8\n",
      "Iteration:  9\n",
      "Iteration:  10\n",
      "(139,)\n",
      "(502,)\n"
     ]
    }
   ],
   "source": [
    "B,K_til, mu_idx=algo2(X_train,y_train,gamma=0.1,epsilon=1e-5,tol=1e-3,max_iter=10,kernel='gaussian',sigma=None)\n",
    "A=compute_A_from_B(B,K_til,mu_idx)"
   ]
  },
  {
   "cell_type": "code",
   "execution_count": 14,
   "metadata": {
    "collapsed": false,
    "scrolled": true
   },
   "outputs": [
    {
     "data": {
      "image/png": "[encoded data removed]",
      "text/plain": [
       "<matplotlib.figure.Figure at 0x7f2b2dcf2b38>"
      ]
     },
     "metadata": {},
     "output_type": "display_data"
    }
   ],
   "source": [
    "#Learned matrix in the kernel extension\n",
    "\n",
    "fig, _ = plt.subplots(figsize=[14,4])\n",
    "plt.imshow(abs(A.T)[:10],cmap=\"gray\")\n",
    "plt.show()"
   ]
  },
  {
   "cell_type": "code",
   "execution_count": 15,
   "metadata": {
    "collapsed": false,
    "scrolled": true
   },
   "outputs": [
    {
     "name": "stdout",
     "output_type": "stream",
     "text": [
      "641\n",
      "Iteration:  1\n",
      "Iteration:  2\n",
      "Iteration:  3\n",
      "Iteration:  4\n",
      "Iteration:  5\n",
      "641\n",
      "Iteration:  1\n",
      "Iteration:  2\n",
      "Iteration:  3\n",
      "Iteration:  4\n",
      "Iteration:  5\n",
      "641\n",
      "Iteration:  1\n",
      "Iteration:  2\n",
      "Iteration:  3\n",
      "Iteration:  4\n",
      "Iteration:  5\n",
      "641\n",
      "Iteration:  1\n",
      "Iteration:  2\n",
      "Iteration:  3\n",
      "Iteration:  4\n",
      "Iteration:  5\n",
      "641\n",
      "Iteration:  1\n",
      "Iteration:  2\n",
      "Iteration:  3\n",
      "Iteration:  4\n",
      "Iteration:  5\n",
      "641\n",
      "Iteration:  1\n",
      "Iteration:  2\n",
      "Iteration:  3\n",
      "Iteration:  4\n",
      "Iteration:  5\n"
     ]
    }
   ],
   "source": [
    "B,list_cost,mineps=algo2_eps(X_train,y_train,gamma=1,epsilon_init=1e-2,tol=1e-3,tol_eps=1e-7,max_iter=5,kernel='gaussian',sigma=None)"
   ]
  },
  {
   "cell_type": "code",
   "execution_count": 20,
   "metadata": {
    "collapsed": false
   },
   "outputs": [
    {
     "data": {
      "image/png": "[encoded data removed]",
      "text/plain": [
       "<matplotlib.figure.Figure at 0x7f2b2d7b68d0>"
      ]
     },
     "metadata": {},
     "output_type": "display_data"
    }
   ],
   "source": [
    "#Convergence on epsilon\n",
    "\n",
    "eps_list=[10**(-j) for j in range(2,8)]\n",
    "fig, _ = plt.subplots(figsize=[14,4])\n",
    "plt.scatter(eps_list,list_cost,c='b')\n",
    "plt.plot(eps_list,list_cost,c='b')\n",
    "plt.xscale('log')\n",
    "plt.gca().invert_xaxis()\n",
    "plt.show()\n",
    "plt.show()"
   ]
  },
  {
   "cell_type": "code",
   "execution_count": null,
   "metadata": {
    "collapsed": true
   },
   "outputs": [],
   "source": []
  }
 ],
 "metadata": {
  "anaconda-cloud": {},
  "kernelspec": {
   "display_name": "Python [conda root]",
   "language": "python",
   "name": "conda-root-py"
  },
  "language_info": {
   "codemirror_mode": {
    "name": "ipython",
    "version": 3
   },
   "file_extension": ".py",
   "mimetype": "text/x-python",
   "name": "python",
   "nbconvert_exporter": "python",
   "pygments_lexer": "ipython3",
   "version": "3.5.2"
  }
 },
 "nbformat": 4,
 "nbformat_minor": 2
}
