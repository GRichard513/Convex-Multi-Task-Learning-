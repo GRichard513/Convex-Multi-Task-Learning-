{
 "cells": [
  {
   "cell_type": "code",
   "execution_count": 1,
   "metadata": {
    "collapsed": true
   },
   "outputs": [],
   "source": [
    "import warnings\n",
    "warnings.filterwarnings('ignore')\n",
    "\n",
    "import numpy as np\n",
    "import matplotlib.pyplot as plt\n",
    "import sys\n",
    "sys.path.append('src/')\n",
    "\n",
    "eps=1e-8\n",
    "\n",
    "from main import *\n",
    "from utils import *"
   ]
  },
  {
   "cell_type": "code",
   "execution_count": 2,
   "metadata": {
    "collapsed": true
   },
   "outputs": [],
   "source": [
    "import hdf5storage\n",
    "\n",
    "file=hdf5storage.loadmat('../school_splits/school_b.mat')\n",
    "X=file.get('x')\n",
    "y=file.get('y')\n",
    "\n",
    "\n",
    "file1=hdf5storage.loadmat('../school_splits/school_1_indexes.mat')\n",
    "train_ix=file1.get('tr').reshape(-1)-1\n",
    "test_ix=file1.get('tst').reshape(-1)-1\n",
    "tr_tsk_ix=file1.get('tr_indexes').reshape(-1)-1\n",
    "ts_tsk_ix=file1.get('tst_indexes').reshape(-1)-1\n",
    "\n",
    "\n",
    "x_train=X[:,train_ix]\n",
    "y_train=y[train_ix]\n",
    "\n",
    "x_test=X[:,test_ix]\n",
    "y_test=y[test_ix]\n",
    "Dini=np.eye(len(x_train))/len(x_train)"
   ]
  },
  {
   "cell_type": "code",
   "execution_count": 3,
   "metadata": {
    "collapsed": false
   },
   "outputs": [
    {
     "name": "stdout",
     "output_type": "stream",
     "text": [
      "CPU times: user 14.3 s, sys: 428 ms, total: 14.8 s\n",
      "Wall time: 4.07 s\n"
     ]
    }
   ],
   "source": [
    "%%time\n",
    "\n",
    "testerrs,theW,theD,mineps=run_code_example(1,x_train,y_train,x_test,y_test,\n",
    "                 tr_tsk_ix,ts_tsk_ix,\n",
    "                 0,Dini,5,'feat', 1e-4,'')"
   ]
  },
  {
   "cell_type": "code",
   "execution_count": 4,
   "metadata": {
    "collapsed": false
   },
   "outputs": [
    {
     "data": {
      "image/png": "[encoded data removed]",
      "text/plain": [
       "<matplotlib.figure.Figure at 0x7f0749f81780>"
      ]
     },
     "metadata": {},
     "output_type": "display_data"
    }
   ],
   "source": [
    "theU=np.linalg.eig(theD)[1]\n",
    "theA=np.dot(theU.T,theW)\n",
    "\n",
    "plt.figure(figsize=(10,6))\n",
    "plt.imshow(abs(theA),cmap='gray')\n",
    "plt.title('Matrix A sparsity')\n",
    "plt.show()"
   ]
  }
 ],
 "metadata": {
  "anaconda-cloud": {},
  "kernelspec": {
   "display_name": "Python [conda root]",
   "language": "python",
   "name": "conda-root-py"
  },
  "language_info": {
   "codemirror_mode": {
    "name": "ipython",
    "version": 3
   },
   "file_extension": ".py",
   "mimetype": "text/x-python",
   "name": "python",
   "nbconvert_exporter": "python",
   "pygments_lexer": "ipython3",
   "version": "3.5.2"
  }
 },
 "nbformat": 4,
 "nbformat_minor": 2
}
