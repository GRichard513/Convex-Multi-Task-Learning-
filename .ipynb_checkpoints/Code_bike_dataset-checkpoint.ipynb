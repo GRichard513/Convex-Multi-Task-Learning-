{
 "cells": [
  {
   "cell_type": "code",
   "execution_count": 1,
   "metadata": {
    "collapsed": false
   },
   "outputs": [],
   "source": [
    "import warnings\n",
    "warnings.filterwarnings('ignore')\n",
    "\n",
    "import numpy as np\n",
    "import pandas as pd\n",
    "\n",
    "import matplotlib.pyplot as plt\n",
    "plt.style.use('ggplot')\n",
    "import sys\n",
    "sys.path.append('src/')\n",
    "\n",
    "eps=1e-8\n",
    "\n",
    "from main import *\n",
    "from utils import *"
   ]
  },
  {
   "cell_type": "markdown",
   "metadata": {},
   "source": [
    "Importing dataset, and droping some columns"
   ]
  },
  {
   "cell_type": "code",
   "execution_count": 2,
   "metadata": {
    "collapsed": false
   },
   "outputs": [],
   "source": [
    "data=pd.read_csv('./bike_data/hour.csv')\n",
    "data.drop(['atemp', 'dteday', 'instant'], axis=1, inplace=True)"
   ]
  },
  {
   "cell_type": "code",
   "execution_count": 3,
   "metadata": {
    "collapsed": false
   },
   "outputs": [
    {
     "data": {
      "text/html": [
       "<div>\n",
       "<table border=\"1\" class=\"dataframe\">\n",
       "  <thead>\n",
       "    <tr style=\"text-align: right;\">\n",
       "      <th></th>\n",
       "      <th>season</th>\n",
       "      <th>yr</th>\n",
       "      <th>mnth</th>\n",
       "      <th>hr</th>\n",
       "      <th>holiday</th>\n",
       "      <th>weekday</th>\n",
       "      <th>workingday</th>\n",
       "      <th>weathersit</th>\n",
       "      <th>temp</th>\n",
       "      <th>hum</th>\n",
       "      <th>windspeed</th>\n",
       "      <th>casual</th>\n",
       "      <th>registered</th>\n",
       "      <th>cnt</th>\n",
       "    </tr>\n",
       "  </thead>\n",
       "  <tbody>\n",
       "    <tr>\n",
       "      <th>0</th>\n",
       "      <td>1</td>\n",
       "      <td>0</td>\n",
       "      <td>1</td>\n",
       "      <td>0</td>\n",
       "      <td>0</td>\n",
       "      <td>6</td>\n",
       "      <td>0</td>\n",
       "      <td>1</td>\n",
       "      <td>0.24</td>\n",
       "      <td>0.81</td>\n",
       "      <td>0.0</td>\n",
       "      <td>3</td>\n",
       "      <td>13</td>\n",
       "      <td>16</td>\n",
       "    </tr>\n",
       "    <tr>\n",
       "      <th>1</th>\n",
       "      <td>1</td>\n",
       "      <td>0</td>\n",
       "      <td>1</td>\n",
       "      <td>1</td>\n",
       "      <td>0</td>\n",
       "      <td>6</td>\n",
       "      <td>0</td>\n",
       "      <td>1</td>\n",
       "      <td>0.22</td>\n",
       "      <td>0.80</td>\n",
       "      <td>0.0</td>\n",
       "      <td>8</td>\n",
       "      <td>32</td>\n",
       "      <td>40</td>\n",
       "    </tr>\n",
       "    <tr>\n",
       "      <th>2</th>\n",
       "      <td>1</td>\n",
       "      <td>0</td>\n",
       "      <td>1</td>\n",
       "      <td>2</td>\n",
       "      <td>0</td>\n",
       "      <td>6</td>\n",
       "      <td>0</td>\n",
       "      <td>1</td>\n",
       "      <td>0.22</td>\n",
       "      <td>0.80</td>\n",
       "      <td>0.0</td>\n",
       "      <td>5</td>\n",
       "      <td>27</td>\n",
       "      <td>32</td>\n",
       "    </tr>\n",
       "    <tr>\n",
       "      <th>3</th>\n",
       "      <td>1</td>\n",
       "      <td>0</td>\n",
       "      <td>1</td>\n",
       "      <td>3</td>\n",
       "      <td>0</td>\n",
       "      <td>6</td>\n",
       "      <td>0</td>\n",
       "      <td>1</td>\n",
       "      <td>0.24</td>\n",
       "      <td>0.75</td>\n",
       "      <td>0.0</td>\n",
       "      <td>3</td>\n",
       "      <td>10</td>\n",
       "      <td>13</td>\n",
       "    </tr>\n",
       "    <tr>\n",
       "      <th>4</th>\n",
       "      <td>1</td>\n",
       "      <td>0</td>\n",
       "      <td>1</td>\n",
       "      <td>4</td>\n",
       "      <td>0</td>\n",
       "      <td>6</td>\n",
       "      <td>0</td>\n",
       "      <td>1</td>\n",
       "      <td>0.24</td>\n",
       "      <td>0.75</td>\n",
       "      <td>0.0</td>\n",
       "      <td>0</td>\n",
       "      <td>1</td>\n",
       "      <td>1</td>\n",
       "    </tr>\n",
       "  </tbody>\n",
       "</table>\n",
       "</div>"
      ],
      "text/plain": [
       "   season  yr  mnth  hr  holiday  weekday  workingday  weathersit  temp   hum  \\\n",
       "0       1   0     1   0        0        6           0           1  0.24  0.81   \n",
       "1       1   0     1   1        0        6           0           1  0.22  0.80   \n",
       "2       1   0     1   2        0        6           0           1  0.22  0.80   \n",
       "3       1   0     1   3        0        6           0           1  0.24  0.75   \n",
       "4       1   0     1   4        0        6           0           1  0.24  0.75   \n",
       "\n",
       "   windspeed  casual  registered  cnt  \n",
       "0        0.0       3          13   16  \n",
       "1        0.0       8          32   40  \n",
       "2        0.0       5          27   32  \n",
       "3        0.0       3          10   13  \n",
       "4        0.0       0           1    1  "
      ]
     },
     "execution_count": 3,
     "metadata": {},
     "output_type": "execute_result"
    }
   ],
   "source": [
    "data.head()"
   ]
  },
  {
   "cell_type": "markdown",
   "metadata": {},
   "source": [
    "We want to predict both 'temp' and 'hum'. We remove here 'temp' and define it as the output. In the algorithm implementation, we handle 'hum'."
   ]
  },
  {
   "cell_type": "code",
   "execution_count": 4,
   "metadata": {
    "collapsed": true
   },
   "outputs": [],
   "source": [
    "y_df=data[['temp']]\n",
    "X_df=data.drop(['temp'],axis=1)"
   ]
  },
  {
   "cell_type": "code",
   "execution_count": 5,
   "metadata": {
    "collapsed": false
   },
   "outputs": [],
   "source": [
    "from sklearn.cross_validation import train_test_split\n",
    "X_train,X_test,y_train,y_test=train_test_split(X_df,y_df,test_size=0.25)"
   ]
  },
  {
   "cell_type": "markdown",
   "metadata": {},
   "source": [
    "Our version of algo1_eps defined in main.py applies to the 'tasks' argument of the previous dataset. We slightly modified it to fit with the bike dataset."
   ]
  },
  {
   "cell_type": "code",
   "execution_count": 6,
   "metadata": {
    "collapsed": false
   },
   "outputs": [
    {
     "ename": "TypeError",
     "evalue": "algo1_eps() got an unexpected keyword argument 'dataset'",
     "output_type": "error",
     "traceback": [
      "\u001b[0;31m---------------------------------------------------------------------------\u001b[0m",
      "\u001b[0;31mTypeError\u001b[0m                                 Traceback (most recent call last)",
      "\u001b[0;32m<ipython-input-6-e4106bb245c6>\u001b[0m in \u001b[0;36m<module>\u001b[0;34m()\u001b[0m\n\u001b[0;32m----> 1\u001b[0;31m \u001b[0mW\u001b[0m\u001b[1;33m,\u001b[0m\u001b[0mD\u001b[0m\u001b[1;33m,\u001b[0m\u001b[0ml\u001b[0m\u001b[1;33m,\u001b[0m\u001b[0mmineps\u001b[0m\u001b[1;33m,\u001b[0m\u001b[0mlist_sqe\u001b[0m\u001b[1;33m=\u001b[0m\u001b[0malgo1_eps\u001b[0m\u001b[1;33m(\u001b[0m\u001b[0mX_train\u001b[0m\u001b[1;33m,\u001b[0m\u001b[0my_train\u001b[0m\u001b[1;33m,\u001b[0m\u001b[0mgamma\u001b[0m\u001b[1;33m=\u001b[0m\u001b[1;36m1\u001b[0m\u001b[1;33m,\u001b[0m\u001b[0mtol\u001b[0m\u001b[1;33m=\u001b[0m\u001b[1;36m0.1\u001b[0m\u001b[1;33m,\u001b[0m\u001b[0mmax_iter\u001b[0m\u001b[1;33m=\u001b[0m\u001b[1;36m20\u001b[0m\u001b[1;33m,\u001b[0m \u001b[0mdataset\u001b[0m\u001b[1;33m=\u001b[0m\u001b[1;34m'bikes'\u001b[0m\u001b[1;33m)\u001b[0m\u001b[1;33m\u001b[0m\u001b[0m\n\u001b[0m\u001b[1;32m      2\u001b[0m \u001b[0mplt\u001b[0m\u001b[1;33m.\u001b[0m\u001b[0mplot\u001b[0m\u001b[1;33m(\u001b[0m\u001b[0ml\u001b[0m\u001b[1;33m)\u001b[0m\u001b[1;33m\u001b[0m\u001b[0m\n\u001b[1;32m      3\u001b[0m \u001b[0mplt\u001b[0m\u001b[1;33m.\u001b[0m\u001b[0mshow\u001b[0m\u001b[1;33m(\u001b[0m\u001b[1;33m)\u001b[0m\u001b[1;33m\u001b[0m\u001b[0m\n",
      "\u001b[0;31mTypeError\u001b[0m: algo1_eps() got an unexpected keyword argument 'dataset'"
     ]
    }
   ],
   "source": [
    "W,D,l,mineps,list_sqe=algo1_eps(X_train,y_train,gamma=1,tol=0.1,max_iter=20, target='hum')\n",
    "plt.plot(l)\n",
    "plt.show()"
   ]
  },
  {
   "cell_type": "code",
   "execution_count": 15,
   "metadata": {
    "collapsed": false
   },
   "outputs": [
    {
     "data": {
      "image/png": "[encoded data removed]",
      "text/plain": [
       "<matplotlib.figure.Figure at 0x1e9ebf03fd0>"
      ]
     },
     "metadata": {},
     "output_type": "display_data"
    }
   ],
   "source": [
    "W,D,l,l_sqe,l_sparse=algo1(X_train,y_train,gamma=1,epsilon=0.01,tol=1e-5,max_iter=30)\n",
    "\n",
    "plt.figure(figsize=(20,10))\n",
    "plt.plot(l_sqe,label='MSE')\n",
    "plt.plot(l_sparse,label='Sparsity')\n",
    "plt.legend()\n",
    "plt.title('Train error')\n",
    "plt.show()"
   ]
  },
  {
   "cell_type": "code",
   "execution_count": 16,
   "metadata": {
    "collapsed": false,
    "scrolled": true
   },
   "outputs": [
    {
     "data": {
      "image/png": "[encoded data removed]",
      "text/plain": [
       "<matplotlib.figure.Figure at 0x1e9800bf1d0>"
      ]
     },
     "metadata": {},
     "output_type": "display_data"
    }
   ],
   "source": [
    "gammas=[]\n",
    "n_feat=[]\n",
    "for j in range(-3,4):\n",
    "    gamma=10**(j)\n",
    "    W,D,l,l_sqe,l_sparse=algo1(X_train,y_train,gamma,epsilon=0.01,tol=1e-5,max_iter=30)\n",
    "    _,U=np.linalg.eig(D)\n",
    "    A=np.dot(U.T,W)\n",
    "    #print(gamma,[round(np.linalg.norm(a),1) for a in A])\n",
    "    gammas.append(gamma)\n",
    "    n_feat.append(len(np.where(np.array([round(np.linalg.norm(a),1) for a in A])>0)[0]))\n",
    "plt.figure(figsize=(20,10))\n",
    "plt.scatter(gammas,n_feat,c='b')\n",
    "plt.plot(gammas,n_feat,c='b')\n",
    "plt.xscale('log')\n",
    "plt.title('Number of selected features depending on gamma')\n",
    "plt.show()"
   ]
  },
  {
   "cell_type": "code",
   "execution_count": 7,
   "metadata": {
    "collapsed": false
   },
   "outputs": [],
   "source": [
    "X=X_train.drop('tasks',axis=1).values\n",
    "K=np.dot(X,X.T)\n",
    "idx=np.random.choice(np.arange(len(K)),size=1000,replace=False)\n",
    "K_tmp=K[idx].T[idx].T"
   ]
  },
  {
   "cell_type": "code",
   "execution_count": 8,
   "metadata": {
    "collapsed": false,
    "scrolled": false
   },
   "outputs": [
    {
     "name": "stdout",
     "output_type": "stream",
     "text": [
      "675\n",
      "Iteration:  1\n",
      "Iteration:  2\n",
      "Iteration:  3\n",
      "Iteration:  4\n",
      "Iteration:  5\n"
     ]
    }
   ],
   "source": [
    "X_train,X_test,y_train,y_test=train_test_split(X_df,y_df,test_size=0.8)\n",
    "B,K_til,mu_idx=algo2(X_train,y_train,gamma=1,\n",
    "                     epsilon=0.1,tol=1e-5,max_iter=5)"
   ]
  },
  {
   "cell_type": "code",
   "execution_count": 14,
   "metadata": {
    "collapsed": false
   },
   "outputs": [],
   "source": [
    "y_pred=compute_y_pred_B(B,X_train,K_til)"
   ]
  },
  {
   "cell_type": "code",
   "execution_count": 16,
   "metadata": {
    "collapsed": false
   },
   "outputs": [
    {
     "data": {
      "text/plain": [
       "20.646973555824516"
      ]
     },
     "execution_count": 16,
     "metadata": {},
     "output_type": "execute_result"
    }
   ],
   "source": [
    "np.linalg.norm(y_pred-y_train.values,ord=1)/len(y_pred)"
   ]
  },
  {
   "cell_type": "code",
   "execution_count": 5,
   "metadata": {
    "collapsed": false,
    "scrolled": true
   },
   "outputs": [
    {
     "name": "stdout",
     "output_type": "stream",
     "text": [
      "658\n",
      "Iteration:  1\n",
      "Iteration:  2\n",
      "Iteration:  3\n",
      "Iteration:  4\n",
      "Iteration:  5\n",
      "Iteration:  6\n",
      "Iteration:  7\n",
      "Iteration:  8\n",
      "Iteration:  9\n",
      "Iteration:  10\n",
      "658\n",
      "Iteration:  1\n",
      "Iteration:  2\n",
      "Iteration:  3\n",
      "Iteration:  4\n",
      "Iteration:  5\n",
      "Iteration:  6\n",
      "Iteration:  7\n",
      "Iteration:  8\n",
      "Iteration:  9\n",
      "Iteration:  10\n",
      "658\n",
      "Iteration:  1\n",
      "Iteration:  2\n",
      "Iteration:  3\n",
      "Iteration:  4\n",
      "Iteration:  5\n",
      "Iteration:  6\n",
      "Iteration:  7\n",
      "Iteration:  8\n",
      "Iteration:  9\n",
      "Iteration:  10\n",
      "658\n",
      "Iteration:  1\n",
      "Iteration:  2\n",
      "Iteration:  3\n",
      "Iteration:  4\n",
      "Iteration:  5\n",
      "Iteration:  6\n",
      "Iteration:  7\n",
      "Iteration:  8\n",
      "Iteration:  9\n",
      "Iteration:  10\n",
      "658\n",
      "Iteration:  1\n",
      "Iteration:  2\n",
      "Iteration:  3\n",
      "Iteration:  4\n",
      "Iteration:  5\n",
      "Iteration:  6\n",
      "Iteration:  7\n",
      "Iteration:  8\n",
      "Iteration:  9\n",
      "Iteration:  10\n",
      "658\n",
      "Iteration:  1\n",
      "Iteration:  2\n",
      "Iteration:  3\n",
      "Iteration:  4\n",
      "Iteration:  5\n",
      "Iteration:  6\n",
      "Iteration:  7\n",
      "Iteration:  8\n",
      "Iteration:  9\n",
      "Iteration:  10\n"
     ]
    }
   ],
   "source": [
    "X_train,X_test,y_train,y_test=train_test_split(X_df,y_df,test_size=0.9)\n",
    "\n",
    "B,list_cost,mineps=algo2_eps(X_train,y_train,gamma=0.1,epsilon_init=1e-2,tol=1e-3,tol_eps=1e-7,max_iter=10,kernel='gaussian',sigma=None)"
   ]
  },
  {
   "cell_type": "code",
   "execution_count": 6,
   "metadata": {
    "collapsed": false
   },
   "outputs": [
    {
     "data": {
      "text/plain": [
       "[20.531901041666668,\n",
       " 20.531901041666668,\n",
       " 20.531901041666668,\n",
       " 20.531901041666668,\n",
       " 20.531901041666668,\n",
       " 20.531901041666668]"
      ]
     },
     "execution_count": 6,
     "metadata": {},
     "output_type": "execute_result"
    }
   ],
   "source": [
    "list_cost"
   ]
  },
  {
   "cell_type": "code",
   "execution_count": 6,
   "metadata": {
    "collapsed": false,
    "scrolled": true
   },
   "outputs": [
    {
     "name": "stdout",
     "output_type": "stream",
     "text": [
      "651\n",
      "Iteration:  1\n",
      "Iteration:  2\n",
      "Iteration:  3\n",
      "Iteration:  4\n",
      "Iteration:  5\n",
      "(138,)\n",
      "(513,)\n",
      "651\n",
      "Iteration:  1\n",
      "Iteration:  2\n",
      "Iteration:  3\n",
      "Iteration:  4\n",
      "Iteration:  5\n",
      "(138,)\n",
      "(513,)\n",
      "651\n",
      "Iteration:  1\n",
      "Iteration:  2\n",
      "Iteration:  3\n",
      "Iteration:  4\n",
      "Iteration:  5\n",
      "(138,)\n",
      "(513,)\n",
      "651\n",
      "Iteration:  1\n",
      "Iteration:  2\n",
      "Iteration:  3\n",
      "Iteration:  4\n",
      "Iteration:  5\n",
      "(138,)\n",
      "(513,)\n",
      "651\n",
      "Iteration:  1\n",
      "Iteration:  2\n",
      "Iteration:  3\n",
      "Iteration:  4\n",
      "Iteration:  5\n",
      "(138,)\n",
      "(513,)\n",
      "651\n",
      "Iteration:  1\n",
      "Iteration:  2\n",
      "Iteration:  3\n",
      "(138,)\n",
      "(513,)\n",
      "651\n",
      "Iteration:  1\n",
      "Iteration:  2\n",
      "(138,)\n",
      "(513,)\n"
     ]
    },
    {
     "data": {
      "image/png": "[encoded data removed]",
      "text/plain": [
       "<matplotlib.figure.Figure at 0x7f7a5c250208>"
      ]
     },
     "metadata": {},
     "output_type": "display_data"
    }
   ],
   "source": [
    "X_train,X_test,y_train,y_test=train_test_split(X_df,y_df,test_size=0.9)\n",
    "gammas=[]\n",
    "n_feat=[]\n",
    "\n",
    "for j in range(-3,4):\n",
    "    gamma=10**(j)\n",
    "    B,K_til,mu_idx=algo2(X_train,y_train,gamma,\n",
    "                     epsilon=0.1,tol=1e-5,max_iter=5)\n",
    "    A=compute_A_from_B(B,K_til,mu_idx)\n",
    "    #print(gamma,[round(np.linalg.norm(a),1) for a in A])\n",
    "    gammas.append(gamma)\n",
    "    n_feat.append(len(np.where(np.array([round(np.linalg.norm(a),3) for a in A.T])>0)[0]))\n",
    "    #B_list.append(B)\n",
    "plt.figure(figsize=(20,10))\n",
    "plt.scatter(gammas,n_feat,c='b')\n",
    "plt.plot(gammas,n_feat,c='b')\n",
    "plt.xscale('log')\n",
    "plt.title('Number of selected features depending on gamma')\n",
    "plt.show()"
   ]
  },
  {
   "cell_type": "code",
   "execution_count": 42,
   "metadata": {
    "collapsed": false
   },
   "outputs": [
    {
     "data": {
      "text/plain": [
       "[0.001, 0.01, 0.1, 1, 10, 100, 1000]"
      ]
     },
     "execution_count": 42,
     "metadata": {},
     "output_type": "execute_result"
    }
   ],
   "source": [
    "gammas"
   ]
  },
  {
   "cell_type": "code",
   "execution_count": 19,
   "metadata": {
    "collapsed": false
   },
   "outputs": [
    {
     "data": {
      "text/plain": [
       "array([  5.13000000e+02,   2.95200000e+02,   1.89900000e+02,\n",
       "         7.38000000e+01,   2.47000000e+01,   9.20000000e+00,\n",
       "         3.40000000e+00,   1.90000000e+00,   1.70000000e+00,\n",
       "         1.10000000e+00,   1.10000000e+00,   6.00000000e-01,\n",
       "         5.00000000e-01,   4.00000000e-01,   3.00000000e-01,\n",
       "         3.00000000e-01,   2.00000000e-01,   1.00000000e-01,\n",
       "         1.00000000e-01,   1.00000000e-01,   1.00000000e-01,\n",
       "         1.00000000e-01,   1.00000000e-01,   1.00000000e-01,\n",
       "         1.00000000e-01,   1.00000000e-01,   1.00000000e-01,\n",
       "         1.00000000e-01])"
      ]
     },
     "execution_count": 19,
     "metadata": {},
     "output_type": "execute_result"
    }
   ],
   "source": [
    "np.array([round(np.linalg.norm(a),1) for a in A.T])[:28]"
   ]
  },
  {
   "cell_type": "code",
   "execution_count": 33,
   "metadata": {
    "collapsed": false
   },
   "outputs": [
    {
     "data": {
      "text/plain": [
       "(656, 138)"
      ]
     },
     "execution_count": 33,
     "metadata": {},
     "output_type": "execute_result"
    }
   ],
   "source": [
    "B.shape"
   ]
  },
  {
   "cell_type": "code",
   "execution_count": 39,
   "metadata": {
    "collapsed": false
   },
   "outputs": [
    {
     "data": {
      "text/plain": [
       "array([  3.02179999e+02,   6.39089736e+02,   8.01978929e+02,\n",
       "         6.29982168e+02,   1.53045353e+02,   1.59663975e+02,\n",
       "         2.17880867e+03,   1.64972310e+03,   5.72799670e+02,\n",
       "         1.20105947e+03,   3.52188083e+02,   4.15205511e+02,\n",
       "         1.31449984e+02,   1.99157194e+02,   3.11217115e+02,\n",
       "         4.93511895e+02,   6.06331003e+02,   8.20432801e+01,\n",
       "         8.80958280e+02,   3.22354441e+02,   3.46382499e+02,\n",
       "         1.21563274e+03,   8.70777798e+02,   1.29737690e+03,\n",
       "         1.18573837e+03,   4.81119970e+02,   1.29172105e+01,\n",
       "         8.37916977e+02,   5.05854481e+02,   6.85554368e+02,\n",
       "         5.56064866e+02,   4.90927560e+01,   1.17388403e+03,\n",
       "         4.28416973e+02,   6.04002463e+02,   2.18132717e+02,\n",
       "         1.07687924e+02,   4.75104987e+02,   2.55328555e+03,\n",
       "         1.15585766e+01,   2.60190649e+02,   1.87802708e+03,\n",
       "         2.97895800e+02,   5.75231674e+02,   2.71741402e+02,\n",
       "         1.53809304e+03,   1.44878737e+02,   1.02607142e+03,\n",
       "         1.71892857e+03,   3.35821220e+02,   1.68901165e+02,\n",
       "         7.26847120e+02,   1.51794796e+02,   7.19817353e+02,\n",
       "         3.11351547e+02,   5.12565705e+02,   4.45267721e+02,\n",
       "         1.88266777e+03,   9.20453189e+01,   3.92054411e+02,\n",
       "         1.46864280e+03,   3.78858802e+02,   2.65741926e+02,\n",
       "         6.31824459e+02,   1.50589829e+03,   1.00159604e+03,\n",
       "         2.19983811e+01,   2.21495144e+02,   2.89051500e+03,\n",
       "         2.93683950e+02,   4.75371680e+02,   1.43706056e+03,\n",
       "         2.25989259e+02,   8.21084457e+01,   5.27994255e+01,\n",
       "         1.70626166e+02,   1.11362875e+02,   5.80681938e+02,\n",
       "         1.07086332e+00,   1.18709410e+02,   1.15760587e+02,\n",
       "         2.41103561e+02,   2.91254703e+02,   3.91447253e+02,\n",
       "         1.77631030e+02,   3.01767757e+00,   9.14678923e+02,\n",
       "         9.27378247e+01,   1.47625292e+02,   3.98362506e+02,\n",
       "         3.24552155e+01,   1.42568162e+02,   8.30678013e+02,\n",
       "         1.20062738e+03,   1.12090654e+03,   1.78692826e+02,\n",
       "         5.64256294e+02,   2.62961380e+02,   9.58645891e+02,\n",
       "         5.48438688e+02,   4.31442376e+02,   5.98642165e+02,\n",
       "         5.53840140e+01,   5.00788071e+02,   1.57259421e+02,\n",
       "         7.75139646e+02,   2.39225291e+02,   2.14068508e+02,\n",
       "         8.86045201e+01,   9.32115000e+02,   2.15742684e+03,\n",
       "         8.41539224e+02,   2.43376621e+02,   2.71245739e+02,\n",
       "         4.59535740e+02,   9.46629038e+02,   7.69936873e+02,\n",
       "         2.18971904e+02,   1.38518338e+02,   5.61254070e+01,\n",
       "         4.89967141e+02,   1.22884901e+02,   2.44892512e+03,\n",
       "         6.38738211e+02,   6.44678669e+02,   5.42204497e+02,\n",
       "         4.21186559e+00,   2.73287266e+02,   3.20655933e+02,\n",
       "         3.11610044e+02,   3.18849587e+02,   1.03684781e+03,\n",
       "         1.63013100e+02,   8.36883732e+02,   1.88194423e+02,\n",
       "         4.13389099e+01,   2.70751690e+02,   9.57917582e+02,\n",
       "         4.61961637e+02,   9.17198472e+02,   5.36452143e+00,\n",
       "         2.63351293e+03,   8.01613630e+02,   7.97606697e+02,\n",
       "         7.29032272e+01,   1.31483404e+03,   5.78412603e+02,\n",
       "         1.67457842e+03,   8.31359963e+01,   3.92896317e+02,\n",
       "         6.52347629e+02,   3.75074842e+02,   9.87930549e+01,\n",
       "         2.47691764e+02,   6.50760628e+02,   8.26075502e+02,\n",
       "         4.25733337e+02,   1.40243021e+02,   2.38882586e+02,\n",
       "         5.55830377e+02,   4.58812652e+02,   9.75180270e+01,\n",
       "         4.80187779e+02,   8.67452186e+02,   2.79662390e+02,\n",
       "         7.02015837e+02,   6.73288635e+02,   2.87177766e+02,\n",
       "         1.14566341e+02,   2.06857107e+02,   3.61222659e+02,\n",
       "         8.37437996e+02,   1.26015648e+01,   8.08175464e+02,\n",
       "         4.74163902e+02,   7.20035450e+02,   1.57727394e+02,\n",
       "         8.44592055e+01,   5.53257404e+02,   2.35726535e+03,\n",
       "         4.19546488e+02,   1.37737203e+02,   8.18352491e+01,\n",
       "         5.38039488e+01,   3.55028325e+02,   4.68952296e+01,\n",
       "         9.88404140e+02,   6.29249746e+02,   3.23652527e+02,\n",
       "         1.13292731e+03,   5.53747438e+02,   3.23136695e+02,\n",
       "         3.11742742e+02,   8.41068050e+01,   2.07768934e+02,\n",
       "         1.34687706e+02,   8.16139761e+01,   5.00324264e+01,\n",
       "         1.99107798e+03,   3.55170762e+02,   2.77288115e+02,\n",
       "         1.84757296e+02,   6.49444875e+01,   4.31531247e+02,\n",
       "         2.26333588e+02,   6.54400113e+02,   5.01117203e+01,\n",
       "         8.96575389e+01,   4.52380131e+02,   1.70411723e+02,\n",
       "         6.85816922e+02,   5.27849640e+02,   8.71910113e+01,\n",
       "         5.45053066e+01,   1.63034063e+02,   2.13560656e+02,\n",
       "         5.03269651e+02,   1.96398463e+03,   2.53355408e+03,\n",
       "         1.82318479e+02,   5.77100560e+01,   1.72481202e+00,\n",
       "         3.59624052e+02,   2.10070075e+03,   5.42996820e+02,\n",
       "         6.60120222e+02,   2.53376522e+01,   6.60502858e+02,\n",
       "         2.05438093e+02,   6.86404224e+02,   5.92087781e+02,\n",
       "         1.69918288e+02,   3.13444073e+02,   3.72111326e+02,\n",
       "         1.00031236e+02,   4.67292222e+02,   9.30000799e+01,\n",
       "         1.60864725e+02,   7.02615530e+02,   2.62781190e+02,\n",
       "         5.99496962e+02,   7.75196407e+02,   6.63171775e+01,\n",
       "         7.13465537e+02,   7.13568562e+02,   2.94253559e+01,\n",
       "         1.58352105e+02,   1.67306456e+02,   1.24595898e+01,\n",
       "         3.76765329e+02,   5.55130970e+00,   3.66247652e+02,\n",
       "         1.33961260e+03,   2.24567046e+02,   9.34431731e+02,\n",
       "         9.11920999e+02,   1.53642746e+03,   2.23174791e+03,\n",
       "         8.24057862e+02,   3.09559782e+02,   6.11211940e+02,\n",
       "         6.32568145e+02,   1.09859992e+02,   1.56050944e+03,\n",
       "         4.37159524e+01,   2.69708927e+02,   2.34226606e+02,\n",
       "         4.74236704e+02,   1.81561984e+02,   3.74127864e+02,\n",
       "         3.38045958e+02,   1.27194554e+03,   5.87885113e+02,\n",
       "         3.40580682e+02,   7.53285374e+02,   6.65958873e+02,\n",
       "         1.53641069e+02,   2.60389137e+02,   2.97487629e+02,\n",
       "         6.72043396e+01,   8.02043450e+02,   8.23002550e+02,\n",
       "         2.63476402e+02,   2.94107005e+02,   6.62196997e+02,\n",
       "         4.59190318e+01,   4.45740633e+02,   7.16793063e+02,\n",
       "         4.79248331e+02,   8.71912985e+02,   3.68238447e+02,\n",
       "         4.32346995e+02,   3.43638283e+01,   1.56211377e+03,\n",
       "         5.97853981e+02,   6.63548407e+02,   1.45106028e+02,\n",
       "         2.19547382e+02,   1.80961048e+03,   1.59883816e+02,\n",
       "         5.18281521e+02,   3.21959393e+02,   5.85440162e+02,\n",
       "         4.85364346e+01,   3.85815527e+02,   2.18939111e+02,\n",
       "         4.22684895e+02,   1.23203319e+02,   5.52183609e+02,\n",
       "         2.24909854e+02,   3.19190702e+02,   1.68764599e+02,\n",
       "         3.83211577e+01,   2.92034035e+02,   1.25506427e+02,\n",
       "         1.30007062e+02,   9.80494507e+02,   5.44204989e+02,\n",
       "         4.21452164e+02,   1.51855329e+01,   3.86817410e+02,\n",
       "         9.09396397e+02,   3.14766305e+02,   9.31411622e+02,\n",
       "         4.66893019e+02,   1.54096872e+02,   5.31424223e+02,\n",
       "         5.51502468e+02,   4.05929313e+01,   2.12284182e+02,\n",
       "         1.54992472e+02,   1.15445303e+02,   3.97061810e+02,\n",
       "         5.15219201e+02,   1.15032796e+03,   5.19454663e+02,\n",
       "         6.35990174e+02,   4.79338621e+02,   1.08292245e+00,\n",
       "         3.87158773e+02,   8.82048149e+00,   6.20689746e+01,\n",
       "         6.39986994e+02,   1.09522399e+03,   1.70563606e+02,\n",
       "         1.37239895e+02,   1.06142871e+02,   2.18021823e+03,\n",
       "         6.84052351e+02,   2.83867375e+02,   8.18519725e+02,\n",
       "         1.08368698e+02,   7.89953335e+02,   8.50784922e+01,\n",
       "         2.07625476e+02,   1.97077978e+02,   1.69679815e+01,\n",
       "         4.86365832e+02,   5.64842186e+02,   6.76442544e+02,\n",
       "         1.17571986e+03,   4.17939754e+02,   2.87666237e+02,\n",
       "         3.32966946e+01,   2.12653428e+02,   1.55358041e+02,\n",
       "         7.13505699e+02,   3.56638973e+02,   1.42794704e+01,\n",
       "         6.97599436e+02,   2.08466465e+02,   1.10494311e+01,\n",
       "         4.10896577e+02,   2.76154886e+02,   3.67451895e+02,\n",
       "         3.80493758e+02,   6.95956772e+02,   2.74686680e+02,\n",
       "         9.71156410e+00,   5.78315940e+02,   4.36334505e+01,\n",
       "         4.09478096e+02,   7.94405559e+01,   3.06543318e+02,\n",
       "         4.24082048e+02,   8.74166611e+01,   3.16498368e+02,\n",
       "         3.38976433e+02,   2.91145971e+02,   3.01605682e+01,\n",
       "         1.43738553e+02,   7.82344775e+02,   5.83065423e+01,\n",
       "         1.61271901e+02,   6.63773899e+01,   2.48548444e+02,\n",
       "         3.02436691e+02,   5.24063669e+01,   3.46884580e+02,\n",
       "         5.47649648e+02,   1.03926195e+03,   9.46473548e+01,\n",
       "         7.41056984e+00,   2.62947514e+02,   1.41182642e+02,\n",
       "         2.13805963e+02,   2.22364569e+02,   3.25005587e+02,\n",
       "         2.45225282e+02,   2.82676412e+02,   4.27018829e+02,\n",
       "         5.12490590e+02,   3.46548048e+01,   1.37436976e+01,\n",
       "         9.51999731e+02,   8.26459215e+02,   1.93690812e+03,\n",
       "         1.36902361e+02,   4.74248747e+02,   6.49938116e+02,\n",
       "         1.30690213e+01,   5.75268161e+02,   2.18967143e+02,\n",
       "         2.69586358e+01,   1.51173288e+02,   5.09922452e+02,\n",
       "         6.43761418e+02,   6.29976524e+01,   1.53975692e+02,\n",
       "         3.83801103e+02,   4.25923425e+02,   5.16313006e+00,\n",
       "         6.21686567e+01,   1.54290690e+02,   1.00214069e+02,\n",
       "         9.82961218e+02,   8.01282544e+00,   2.10634845e+02,\n",
       "         1.10849037e+03,   9.00267178e+01,   2.68110628e+02,\n",
       "         2.01130682e+02,   3.19414871e+02,   4.33760119e+01,\n",
       "         3.51630495e+01,   2.28546833e+02,   1.93576397e+02,\n",
       "         1.92283034e+02,   3.01714073e+02,   3.88735267e+02,\n",
       "         6.31179898e+01,   1.08466324e+03,   1.62506049e+01,\n",
       "         3.74125590e+01,   7.25309897e+02,   3.37296214e+02,\n",
       "         4.21446964e+00,   4.26305533e+02,   2.98815564e+02,\n",
       "         3.88571657e+01,   4.26380444e+00,   9.76514649e+02,\n",
       "         2.13837858e+02,   2.93347347e+01,   1.38177807e+02,\n",
       "         9.86394058e+01,   4.42188965e+01,   1.04755712e+02,\n",
       "         9.72757094e+01,   3.73239020e+00,   2.89404649e+02,\n",
       "         2.54353187e+02,   3.41330853e+02,   2.86479236e+02,\n",
       "         1.24975073e+02,   6.00391385e+01,   1.94758156e+02,\n",
       "         1.20498465e+02,   5.38926604e+01,   8.51023798e+02,\n",
       "         1.23060423e+02,   4.77882157e+02,   8.97303345e+02,\n",
       "         3.24005019e+02,   1.17910822e+02,   1.31512915e+02,\n",
       "         1.05613784e+02,   3.26741188e+02,   1.02295123e+02,\n",
       "         6.27509870e+01,   1.65789681e+02,   2.19640697e+02,\n",
       "         1.31879801e+02,   5.02716373e+02,   2.70848964e+02,\n",
       "         1.01580456e+02,   2.26452342e+02,   1.01111899e+02,\n",
       "         1.15838827e+02,   4.25122085e+01,   6.86170603e+01,\n",
       "         6.35816953e+01,   1.31349056e+02,   1.43270053e+02,\n",
       "         9.69205583e+01,   1.11419027e+02,   1.38382140e+02,\n",
       "         5.39328374e+00,   2.20790146e+00,   3.00171003e+02,\n",
       "         1.58104114e+02,   2.02076917e+02,   3.69163504e+02,\n",
       "         1.36076399e+01,   3.26542669e+02,   4.84275866e+02,\n",
       "         1.94308847e+02,   6.70360504e+01,   1.68796731e+02,\n",
       "         2.60159746e+02,   2.36821794e+02,   1.78096104e+02,\n",
       "         2.69990283e+02,   2.38911677e+02,   4.64227087e+01,\n",
       "         5.52470867e+01,   2.14813592e+02,   1.85846676e+02,\n",
       "         1.40907144e+01,   1.66530888e+02,   3.70565827e+01,\n",
       "         9.25114858e+01,   4.94207898e+02,   2.13385141e+02,\n",
       "         1.69188330e+02,   3.65556306e+01,   1.42724837e+02,\n",
       "         2.47435355e+02,   2.80472952e+01,   3.88177737e+01,\n",
       "         2.65683832e+02,   1.31377207e+02,   6.89265875e+01,\n",
       "         9.74327310e+01,   4.97981793e+02,   1.31335531e+02,\n",
       "         5.47308973e+01,   6.88730977e+01,   3.13827926e+02,\n",
       "         2.22074792e+01,   2.13093475e+01,   3.09173732e+00,\n",
       "         4.36363651e+01,   2.15825694e+01,   1.17637437e+02,\n",
       "         4.45047181e+02,   9.35472140e+01,   6.77648776e+01,\n",
       "         3.33448722e+00,   9.38328220e+01,   1.10211316e+02,\n",
       "         7.15020497e+01,   1.79925263e+01,   9.80386721e+01,\n",
       "         1.95828336e+02,   2.62185727e+02,   5.70451333e+01,\n",
       "         4.72168466e+02,   1.72684400e+02,   1.61448729e+02,\n",
       "         2.15374010e+01,   1.91683485e+02,   1.04764360e+02,\n",
       "         1.87567321e+02,   1.35961196e+02,   1.26425875e+02,\n",
       "         1.65320843e+02,   2.64894416e+02,   1.02950847e+02,\n",
       "         5.33470060e+01,   9.40071476e+01,   2.52845230e+02,\n",
       "         1.17650595e+02,   3.58976847e+01,   2.02868547e+01,\n",
       "         3.32612751e+00,   4.57652323e+02,   6.91564221e+01,\n",
       "         1.85186407e+01,   5.18125502e+01,   7.28383294e+01,\n",
       "         6.09949339e+01,   7.13117951e+01,   1.03072889e+02,\n",
       "         9.48281833e+01,   1.33097777e+02,   2.14681499e+02,\n",
       "         1.69908784e+02,   6.79956593e+01,   5.01087276e+01,\n",
       "         1.98419064e+02,   3.82852895e+02,   8.26086748e+01,\n",
       "         6.64098974e+01,   7.98982640e+01,   1.61745115e+02,\n",
       "         8.14328861e+02,   2.10159756e+02,   6.02626919e+01,\n",
       "         4.51572077e+02,   5.04894687e+02,   9.53562121e+01,\n",
       "         3.20441996e+01,   2.75342710e+01,   4.47860211e+01,\n",
       "         9.62516449e+01,   2.45701948e+02,   2.26592082e+01,\n",
       "         3.52903501e+02,   3.39908499e+01,   1.15493353e+02,\n",
       "         1.22202175e+02,   1.55612281e+01,   2.39594298e+01,\n",
       "         6.51800133e+01,   3.83693195e+02,   1.24710021e+02,\n",
       "         4.82877607e+01,   8.05266390e+01,   1.45760193e+00,\n",
       "         1.06113373e+02,   5.98184796e+01,   6.14579036e+02,\n",
       "         3.64386786e+01,   8.90749715e+02,   3.32509635e+01,\n",
       "         7.77103434e+00,   3.79552214e+01,   1.65591886e+02,\n",
       "         4.26259997e+02,   1.69856661e+02,   4.07557831e+00,\n",
       "         5.17543695e+00,   1.93855018e+01,   5.38806759e+01,\n",
       "         8.99939300e+01,   1.09487340e+01,   2.15061151e+02,\n",
       "         2.85352773e+01,   1.09830876e+02,   1.44089324e+02,\n",
       "         1.23789201e+02,   8.83884338e+01,   4.31938642e+01,\n",
       "         2.30086897e+02,   1.29791199e+02])"
      ]
     },
     "execution_count": 39,
     "metadata": {},
     "output_type": "execute_result"
    }
   ],
   "source": [
    "np.linalg.norm(B,axis=1)"
   ]
  },
  {
   "cell_type": "code",
   "execution_count": 17,
   "metadata": {
    "collapsed": false
   },
   "outputs": [
    {
     "data": {
      "text/plain": [
       "PLSRegression(copy=True, max_iter=500, n_components=2, scale=True, tol=1e-06)"
      ]
     },
     "execution_count": 17,
     "metadata": {},
     "output_type": "execute_result"
    }
   ],
   "source": [
    "from sklearn.cross_decomposition import PLSRegression\n",
    "\n",
    "clf=PLSRegression()\n",
    "\n",
    "clf.fit(X_train,y_train)"
   ]
  },
  {
   "cell_type": "code",
   "execution_count": 9,
   "metadata": {
    "collapsed": false
   },
   "outputs": [],
   "source": [
    "y_pred_LDA=clf.predict(X_train)"
   ]
  },
  {
   "cell_type": "code",
   "execution_count": 12,
   "metadata": {
    "collapsed": false
   },
   "outputs": [
    {
     "data": {
      "text/plain": [
       "21.460059748954823"
      ]
     },
     "execution_count": 12,
     "metadata": {},
     "output_type": "execute_result"
    }
   ],
   "source": [
    "np.linalg.norm(y_pred_LDA-y_train.values)/len(y_pred_LDA)"
   ]
  },
  {
   "cell_type": "code",
   "execution_count": 13,
   "metadata": {
    "collapsed": true
   },
   "outputs": [],
   "source": [
    "X_new=clf.fit_transform(X_train,y_train)"
   ]
  },
  {
   "cell_type": "code",
   "execution_count": 15,
   "metadata": {
    "collapsed": false
   },
   "outputs": [],
   "source": [
    "x_plot=[x[0] for x in X_new]\n",
    "y_plot=[y[0] for y in X_new]"
   ]
  },
  {
   "cell_type": "code",
   "execution_count": 24,
   "metadata": {
    "collapsed": false,
    "scrolled": true
   },
   "outputs": [],
   "source": [
    "importance=clf.coef_/np.linalg.norm(clf.coef_)"
   ]
  },
  {
   "cell_type": "code",
   "execution_count": 30,
   "metadata": {
    "collapsed": false
   },
   "outputs": [
    {
     "data": {
      "text/plain": [
       "-2.6917368697107946"
      ]
     },
     "execution_count": 30,
     "metadata": {},
     "output_type": "execute_result"
    }
   ],
   "source": [
    "explained_var(compute_y_pred_B(B,X_train,K_til),y_train.values)"
   ]
  },
  {
   "cell_type": "code",
   "execution_count": null,
   "metadata": {
    "collapsed": true
   },
   "outputs": [],
   "source": [
    "M=np.array([])"
   ]
  },
  {
   "cell_type": "code",
   "execution_count": 27,
   "metadata": {
    "collapsed": false
   },
   "outputs": [
    {
     "data": {
      "text/plain": [
       "12.624597373056581"
      ]
     },
     "execution_count": 27,
     "metadata": {},
     "output_type": "execute_result"
    }
   ],
   "source": [
    "np.sqrt(np.var(y_train.values))"
   ]
  },
  {
   "cell_type": "code",
   "execution_count": null,
   "metadata": {
    "collapsed": true
   },
   "outputs": [],
   "source": []
  }
 ],
 "metadata": {
  "anaconda-cloud": {},
  "kernelspec": {
   "display_name": "Python [conda root]",
   "language": "python",
   "name": "conda-root-py"
  },
  "language_info": {
   "codemirror_mode": {
    "name": "ipython",
    "version": 3
   },
   "file_extension": ".py",
   "mimetype": "text/x-python",
   "name": "python",
   "nbconvert_exporter": "python",
   "pygments_lexer": "ipython3",
   "version": "3.5.2"
  }
 },
 "nbformat": 4,
 "nbformat_minor": 2
}
